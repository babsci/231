{
 "cells": [
  {
   "cell_type": "markdown",
   "metadata": {
    "tags": [
     "pdf-title"
    ]
   },
   "source": [
    "# Softmax exercise\n",
    "\n",
    "*Complete and hand in this completed worksheet (including its outputs and any supporting code outside of the worksheet) with your assignment submission. For more details see the [assignments page](http://vision.stanford.edu/teaching/cs231n/assignments.html) on the course website.*\n",
    "\n",
    "This exercise is analogous to the SVM exercise. You will:\n",
    "\n",
    "- implement a fully-vectorized **loss function** for the Softmax classifier\n",
    "- implement the fully-vectorized expression for its **analytic gradient**\n",
    "- **check your implementation** with numerical gradient\n",
    "- use a validation set to **tune the learning rate and regularization** strength\n",
    "- **optimize** the loss function with **SGD**\n",
    "- **visualize** the final learned weights\n"
   ]
  },
  {
   "cell_type": "code",
   "execution_count": 2,
   "metadata": {
    "tags": [
     "pdf-ignore"
    ]
   },
   "outputs": [],
   "source": [
    "import random\n",
    "import numpy as np\n",
    "from cs231n.data_utils import load_CIFAR10\n",
    "import matplotlib.pyplot as plt\n",
    "\n",
    "%matplotlib inline\n",
    "plt.rcParams['figure.figsize'] = (10.0, 8.0) # set default size of plots\n",
    "plt.rcParams['image.interpolation'] = 'nearest'\n",
    "plt.rcParams['image.cmap'] = 'gray'\n",
    "\n",
    "# for auto-reloading extenrnal modules\n",
    "# see http://stackoverflow.com/questions/1907993/autoreload-of-modules-in-ipython\n",
    "%load_ext autoreload\n",
    "%autoreload 2"
   ]
  },
  {
   "cell_type": "code",
   "execution_count": 3,
   "metadata": {
    "tags": [
     "pdf-ignore"
    ]
   },
   "outputs": [
    {
     "name": "stdout",
     "output_type": "stream",
     "text": [
      "Train data shape:  (49000, 3073)\n",
      "Train labels shape:  (49000,)\n",
      "Validation data shape:  (1000, 3073)\n",
      "Validation labels shape:  (1000,)\n",
      "Test data shape:  (1000, 3073)\n",
      "Test labels shape:  (1000,)\n",
      "dev data shape:  (500, 3073)\n",
      "dev labels shape:  (500,)\n"
     ]
    }
   ],
   "source": [
    "def get_CIFAR10_data(num_training=49000, num_validation=1000, num_test=1000, num_dev=500):\n",
    "    \"\"\"\n",
    "    Load the CIFAR-10 dataset from disk and perform preprocessing to prepare\n",
    "    it for the linear classifier. These are the same steps as we used for the\n",
    "    SVM, but condensed to a single function.  \n",
    "    \"\"\"\n",
    "    # Load the raw CIFAR-10 data\n",
    "    cifar10_dir = 'cs231n/datasets/cifar-10-batches-py'\n",
    "    \n",
    "    # Cleaning up variables to prevent loading data multiple times (which may cause memory issue)\n",
    "    try:\n",
    "       del X_train, y_train\n",
    "       del X_test, y_test\n",
    "       print('Clear previously loaded data.')\n",
    "    except:\n",
    "       pass\n",
    "\n",
    "    X_train, y_train, X_test, y_test = load_CIFAR10(cifar10_dir)\n",
    "    \n",
    "    # subsample the data\n",
    "    mask = list(range(num_training, num_training + num_validation))\n",
    "    X_val = X_train[mask]\n",
    "    y_val = y_train[mask]\n",
    "    mask = list(range(num_training))\n",
    "    X_train = X_train[mask]\n",
    "    y_train = y_train[mask]\n",
    "    mask = list(range(num_test))\n",
    "    X_test = X_test[mask]\n",
    "    y_test = y_test[mask]\n",
    "    mask = np.random.choice(num_training, num_dev, replace=False)\n",
    "    X_dev = X_train[mask]\n",
    "    y_dev = y_train[mask]\n",
    "    \n",
    "    # Preprocessing: reshape the image data into rows\n",
    "    X_train = np.reshape(X_train, (X_train.shape[0], -1))\n",
    "    X_val = np.reshape(X_val, (X_val.shape[0], -1))\n",
    "    X_test = np.reshape(X_test, (X_test.shape[0], -1))\n",
    "    X_dev = np.reshape(X_dev, (X_dev.shape[0], -1))\n",
    "    \n",
    "    # Normalize the data: subtract the mean image\n",
    "    mean_image = np.mean(X_train, axis = 0)\n",
    "    X_train -= mean_image\n",
    "    X_val -= mean_image\n",
    "    X_test -= mean_image\n",
    "    X_dev -= mean_image\n",
    "    \n",
    "    # add bias dimension and transform into columns\n",
    "    X_train = np.hstack([X_train, np.ones((X_train.shape[0], 1))])\n",
    "    X_val = np.hstack([X_val, np.ones((X_val.shape[0], 1))])\n",
    "    X_test = np.hstack([X_test, np.ones((X_test.shape[0], 1))])\n",
    "    X_dev = np.hstack([X_dev, np.ones((X_dev.shape[0], 1))])\n",
    "    \n",
    "    return X_train, y_train, X_val, y_val, X_test, y_test, X_dev, y_dev\n",
    "\n",
    "\n",
    "# Invoke the above function to get our data.\n",
    "X_train, y_train, X_val, y_val, X_test, y_test, X_dev, y_dev = get_CIFAR10_data()\n",
    "print('Train data shape: ', X_train.shape)\n",
    "print('Train labels shape: ', y_train.shape)\n",
    "print('Validation data shape: ', X_val.shape)\n",
    "print('Validation labels shape: ', y_val.shape)\n",
    "print('Test data shape: ', X_test.shape)\n",
    "print('Test labels shape: ', y_test.shape)\n",
    "print('dev data shape: ', X_dev.shape)\n",
    "print('dev labels shape: ', y_dev.shape)"
   ]
  },
  {
   "cell_type": "markdown",
   "metadata": {},
   "source": [
    "## Softmax Classifier\n",
    "\n",
    "Your code for this section will all be written inside `cs231n/classifiers/softmax.py`.\n"
   ]
  },
  {
   "cell_type": "code",
   "execution_count": 4,
   "metadata": {},
   "outputs": [
    {
     "name": "stdout",
     "output_type": "stream",
     "text": [
      "loss: 2.309239\n",
      "sanity check: 2.302585\n"
     ]
    }
   ],
   "source": [
    "# First implement the naive softmax loss function with nested loops.\n",
    "# Open the file cs231n/classifiers/softmax.py and implement the\n",
    "# softmax_loss_naive function.\n",
    "\n",
    "from cs231n.classifiers.softmax import softmax_loss_naive\n",
    "import time\n",
    "\n",
    "# Generate a random softmax weight matrix and use it to compute the loss.\n",
    "W = np.random.randn(3073, 10) * 0.0001\n",
    "loss, grad = softmax_loss_naive(W, X_dev, y_dev, 0.0)\n",
    "\n",
    "# As a rough sanity check, our loss should be something close to -log(0.1).\n",
    "print('loss: %f' % loss)\n",
    "print('sanity check: %f' % (-np.log(0.1)))"
   ]
  },
  {
   "cell_type": "markdown",
   "metadata": {
    "tags": [
     "pdf-inline"
    ]
   },
   "source": [
    "**Inline Question 1**\n",
    "\n",
    "Why do we expect our loss to be close to -log(0.1)? Explain briefly.**\n",
    "\n",
    "$\\color{blue}{\\textit Your Answer:}$ Elements in W is close to 0, so scores are close to 0. When calculating the loss, the result is close to -log(1/C), where C is the number of classes.\n",
    "\n"
   ]
  },
  {
   "cell_type": "code",
   "execution_count": 5,
   "metadata": {},
   "outputs": [
    {
     "name": "stdout",
     "output_type": "stream",
     "text": [
      "numerical: 1.401227 analytic: 1.401227, relative error: 4.989717e-08\n",
      "numerical: 1.357607 analytic: 1.357607, relative error: 6.467339e-09\n",
      "numerical: -2.602561 analytic: -2.602561, relative error: 5.154485e-09\n",
      "numerical: 0.131274 analytic: 0.131274, relative error: 1.457359e-07\n",
      "numerical: -1.829175 analytic: -1.829175, relative error: 1.003291e-08\n",
      "numerical: -2.422317 analytic: -2.422317, relative error: 1.104792e-08\n",
      "numerical: 1.037435 analytic: 1.037435, relative error: 2.394617e-08\n",
      "numerical: -2.313672 analytic: -2.313672, relative error: 1.000838e-08\n",
      "numerical: 0.431033 analytic: 0.431033, relative error: 1.984537e-07\n",
      "numerical: 0.479219 analytic: 0.479219, relative error: 1.526982e-07\n",
      "numerical: -1.194568 analytic: -1.194568, relative error: 1.546022e-08\n",
      "numerical: -0.025955 analytic: -0.025955, relative error: 6.396896e-07\n",
      "numerical: -1.527144 analytic: -1.527144, relative error: 2.916765e-10\n",
      "numerical: -4.073770 analytic: -4.073770, relative error: 4.885921e-09\n",
      "numerical: -1.326812 analytic: -1.326812, relative error: 1.479172e-09\n",
      "numerical: 0.393875 analytic: 0.393875, relative error: 9.753144e-08\n",
      "numerical: -2.058414 analytic: -2.058414, relative error: 6.425591e-09\n",
      "numerical: 1.641975 analytic: 1.641975, relative error: 1.486866e-08\n",
      "numerical: -3.985867 analytic: -3.985867, relative error: 2.435740e-08\n",
      "numerical: -1.562049 analytic: -1.562049, relative error: 1.396938e-09\n"
     ]
    }
   ],
   "source": [
    "# Complete the implementation of softmax_loss_naive and implement a (naive)\n",
    "# version of the gradient that uses nested loops.\n",
    "loss, grad = softmax_loss_naive(W, X_dev, y_dev, 0.0)\n",
    "\n",
    "# As we did for the SVM, use numeric gradient checking as a debugging tool.\n",
    "# The numeric gradient should be close to the analytic gradient.\n",
    "from cs231n.gradient_check import grad_check_sparse\n",
    "f = lambda w: softmax_loss_naive(w, X_dev, y_dev, 0.0)[0]\n",
    "grad_numerical = grad_check_sparse(f, W, grad, 10)\n",
    "\n",
    "# similar to SVM case, do another gradient check with regularization\n",
    "loss, grad = softmax_loss_naive(W, X_dev, y_dev, 5e1)\n",
    "f = lambda w: softmax_loss_naive(w, X_dev, y_dev, 5e1)[0]\n",
    "grad_numerical = grad_check_sparse(f, W, grad, 10)"
   ]
  },
  {
   "cell_type": "code",
   "execution_count": 8,
   "metadata": {},
   "outputs": [
    {
     "name": "stdout",
     "output_type": "stream",
     "text": [
      "naive loss: 2.309239e+00 computed in 0.161528s\n",
      "vectorized loss: 2.309239e+00 computed in 0.010543s\n",
      "Loss difference: 0.000000\n",
      "Gradient difference: 0.000000\n"
     ]
    }
   ],
   "source": [
    "# Now that we have a naive implementation of the softmax loss function and its gradient,\n",
    "# implement a vectorized version in softmax_loss_vectorized.\n",
    "# The two versions should compute the same results, but the vectorized version should be\n",
    "# much faster.\n",
    "tic = time.time()\n",
    "loss_naive, grad_naive = softmax_loss_naive(W, X_dev, y_dev, 0.000005)\n",
    "toc = time.time()\n",
    "print('naive loss: %e computed in %fs' % (loss_naive, toc - tic))\n",
    "\n",
    "from cs231n.classifiers.softmax import softmax_loss_vectorized\n",
    "tic = time.time()\n",
    "loss_vectorized, grad_vectorized = softmax_loss_vectorized(W, X_dev, y_dev, 0.000005)\n",
    "toc = time.time()\n",
    "print('vectorized loss: %e computed in %fs' % (loss_vectorized, toc - tic))\n",
    "\n",
    "# As we did for the SVM, we use the Frobenius norm to compare the two versions\n",
    "# of the gradient.\n",
    "grad_difference = np.linalg.norm(grad_naive - grad_vectorized, ord='fro')\n",
    "print('Loss difference: %f' % np.abs(loss_naive - loss_vectorized))\n",
    "print('Gradient difference: %f' % grad_difference)"
   ]
  },
  {
   "cell_type": "code",
   "execution_count": 9,
   "metadata": {
    "id": "tuning",
    "tags": [
     "code"
    ]
   },
   "outputs": [
    {
     "name": "stdout",
     "output_type": "stream",
     "text": [
      "learning rate =  3.5e-07 regulation_strength =  14000.0\n",
      "iteration 0 / 500: loss 431.266255\n",
      "iteration 100 / 500: loss 61.019455\n",
      "iteration 200 / 500: loss 10.192060\n",
      "iteration 300 / 500: loss 3.132030\n",
      "iteration 400 / 500: loss 2.178762\n",
      "learning rate =  3.5e-07 regulation_strength =  15000.0\n",
      "iteration 0 / 500: loss 467.843279\n",
      "iteration 100 / 500: loss 57.804239\n",
      "iteration 200 / 500: loss 8.647129\n",
      "iteration 300 / 500: loss 2.822362\n",
      "iteration 400 / 500: loss 2.182363\n",
      "learning rate =  3.5e-07 regulation_strength =  16000.0\n",
      "iteration 0 / 500: loss 495.366037\n",
      "iteration 100 / 500: loss 53.293139\n",
      "iteration 200 / 500: loss 7.392284\n",
      "iteration 300 / 500: loss 2.594800\n",
      "iteration 400 / 500: loss 2.064626\n",
      "learning rate =  4e-07 regulation_strength =  14000.0\n",
      "iteration 0 / 500: loss 434.345356\n",
      "iteration 100 / 500: loss 46.785146\n",
      "iteration 200 / 500: loss 6.707174\n",
      "iteration 300 / 500: loss 2.509239\n",
      "iteration 400 / 500: loss 2.110959\n",
      "learning rate =  4e-07 regulation_strength =  15000.0\n",
      "iteration 0 / 500: loss 465.889251\n",
      "iteration 100 / 500: loss 43.039135\n",
      "iteration 200 / 500: loss 5.686558\n",
      "iteration 300 / 500: loss 2.442449\n",
      "iteration 400 / 500: loss 2.035010\n",
      "learning rate =  4e-07 regulation_strength =  16000.0\n",
      "iteration 0 / 500: loss 513.935557\n",
      "iteration 100 / 500: loss 40.418661\n",
      "iteration 200 / 500: loss 4.912149\n",
      "iteration 300 / 500: loss 2.261088\n",
      "iteration 400 / 500: loss 2.010911\n",
      "learning rate =  4.5e-07 regulation_strength =  14000.0\n",
      "iteration 0 / 500: loss 433.325425\n",
      "iteration 100 / 500: loss 35.812977\n",
      "iteration 200 / 500: loss 4.674086\n",
      "iteration 300 / 500: loss 2.230971\n",
      "iteration 400 / 500: loss 2.088696\n",
      "learning rate =  4.5e-07 regulation_strength =  15000.0\n",
      "iteration 0 / 500: loss 469.464344\n",
      "iteration 100 / 500: loss 32.432922\n",
      "iteration 200 / 500: loss 4.060687\n",
      "iteration 300 / 500: loss 2.215300\n",
      "iteration 400 / 500: loss 2.046994\n",
      "learning rate =  4.5e-07 regulation_strength =  16000.0\n",
      "iteration 0 / 500: loss 500.085076\n",
      "iteration 100 / 500: loss 28.989783\n",
      "iteration 200 / 500: loss 3.604064\n",
      "iteration 300 / 500: loss 2.094433\n",
      "iteration 400 / 500: loss 1.985712\n",
      "iteration 0 / 1500: loss 2.018048\n",
      "iteration 100 / 1500: loss 2.065442\n",
      "iteration 200 / 1500: loss 2.142603\n",
      "iteration 300 / 1500: loss 2.065844\n",
      "iteration 400 / 1500: loss 2.026606\n",
      "iteration 500 / 1500: loss 2.022095\n",
      "iteration 600 / 1500: loss 2.061144\n",
      "iteration 700 / 1500: loss 2.010121\n",
      "iteration 800 / 1500: loss 2.016642\n",
      "iteration 900 / 1500: loss 2.127708\n",
      "iteration 1000 / 1500: loss 2.027811\n",
      "iteration 1100 / 1500: loss 1.969597\n",
      "iteration 1200 / 1500: loss 2.009026\n",
      "iteration 1300 / 1500: loss 2.066550\n",
      "iteration 1400 / 1500: loss 2.053904\n",
      "lr 3.500000e-07 reg 1.400000e+04 train accuracy: 0.347102 val accuracy: 0.362000\n",
      "lr 3.500000e-07 reg 1.500000e+04 train accuracy: 0.340735 val accuracy: 0.351000\n",
      "lr 3.500000e-07 reg 1.600000e+04 train accuracy: 0.348163 val accuracy: 0.348000\n",
      "lr 4.000000e-07 reg 1.400000e+04 train accuracy: 0.345653 val accuracy: 0.363000\n",
      "lr 4.000000e-07 reg 1.500000e+04 train accuracy: 0.341735 val accuracy: 0.347000\n",
      "lr 4.000000e-07 reg 1.600000e+04 train accuracy: 0.341816 val accuracy: 0.361000\n",
      "lr 4.500000e-07 reg 1.400000e+04 train accuracy: 0.349327 val accuracy: 0.364000\n",
      "lr 4.500000e-07 reg 1.500000e+04 train accuracy: 0.345776 val accuracy: 0.353000\n",
      "lr 4.500000e-07 reg 1.600000e+04 train accuracy: 0.333000 val accuracy: 0.351000\n",
      "best validation accuracy achieved during cross-validation: 0.364000\n"
     ]
    }
   ],
   "source": [
    "# Use the validation set to tune hyperparameters (regularization strength and\n",
    "# learning rate). You should experiment with different ranges for the learning\n",
    "# rates and regularization strengths; if you are careful you should be able to\n",
    "# get a classification accuracy of over 0.35 on the validation set.\n",
    "\n",
    "from cs231n.classifiers import Softmax\n",
    "results = {}\n",
    "best_val = -1\n",
    "best_softmax = None\n",
    "\n",
    "################################################################################\n",
    "# TODO:                                                                        #\n",
    "# Use the validation set to set the learning rate and regularization strength. #\n",
    "# This should be identical to the validation that you did for the SVM; save    #\n",
    "# the best trained softmax classifer in best_softmax.                          #\n",
    "################################################################################\n",
    "\n",
    "# Provided as a reference. You may or may not want to change these hyperparameters\n",
    "#changed\n",
    "learning_rates = [3.5e-7,4e-7,4.5e-7]\n",
    "regularization_strengths = [1.4e4,1.5e4,1.6e4]\n",
    "\n",
    "# *****START OF YOUR CODE (DO NOT DELETE/MODIFY THIS LINE)*****\n",
    "(best_lr,best_re) = (None,None)\n",
    "for lr in learning_rates:\n",
    "    for re in regularization_strengths:\n",
    "        print(\"learning rate = \",lr,\"regulation_strength = \",re)\n",
    "        softmax = Softmax()\n",
    "        loss_hist = softmax.train(X_train,y_train,learning_rate=lr,reg=re,\n",
    "                                 num_iters=500,verbose=True)\n",
    "        y_train_pred = softmax.predict(X_train)\n",
    "        train_acc = np.mean(y_train == y_train_pred)\n",
    "        y_val_pred = softmax.predict(X_val)\n",
    "        val_acc = np.mean(y_val == y_val_pred)\n",
    "        \n",
    "        results[(lr,re)] = (train_acc,val_acc)\n",
    "        if(val_acc > best_val):\n",
    "            best_val = val_acc\n",
    "            best_softmax = softmax\n",
    "            (best_lr,best_re) = (lr,re)\n",
    "best_softmax.train(X_train,y_train,learning_rate=best_lr,reg=best_re,\n",
    "            num_iters=1500,verbose=True)\n",
    "\n",
    "# *****END OF YOUR CODE (DO NOT DELETE/MODIFY THIS LINE)*****\n",
    "    \n",
    "# Print out results.\n",
    "for lr, reg in sorted(results):\n",
    "    train_accuracy, val_accuracy = results[(lr, reg)]\n",
    "    print('lr %e reg %e train accuracy: %f val accuracy: %f' % (\n",
    "                lr, reg, train_accuracy, val_accuracy))\n",
    "    \n",
    "print('best validation accuracy achieved during cross-validation: %f' % best_val)"
   ]
  },
  {
   "cell_type": "code",
   "execution_count": 10,
   "metadata": {
    "id": "test"
   },
   "outputs": [
    {
     "name": "stdout",
     "output_type": "stream",
     "text": [
      "softmax on raw pixels final test set accuracy: 0.354000\n"
     ]
    }
   ],
   "source": [
    "# evaluate on test set\n",
    "# Evaluate the best softmax on test set\n",
    "y_test_pred = best_softmax.predict(X_test)\n",
    "test_accuracy = np.mean(y_test == y_test_pred)\n",
    "print('softmax on raw pixels final test set accuracy: %f' % (test_accuracy, ))"
   ]
  },
  {
   "cell_type": "markdown",
   "metadata": {
    "tags": [
     "pdf-inline"
    ]
   },
   "source": [
    "**Inline Question 2** - *True or False*\n",
    "\n",
    "Suppose the overall training loss is defined as the sum of the per-datapoint loss over all training examples. It is possible to add a new datapoint to a training set that would leave the SVM loss unchanged, but this is not the case with the Softmax classifier loss.\n",
    "\n",
    "$\\color{blue}{\\textit Your Answer:}$ True.\n",
    "\n",
    "\n",
    "$\\color{blue}{\\textit Your Explanation:}$ As can been in the loss function, SVM requires the adding datapoint classify the point to its correct class over a certain \"boundary\", but Softmax tries to make the probability of the correct class to a total \"1\". If softmax loss needs to remain unchanged(before avergae), f(x) needs to be infunity, which is impossible in its calculation.\n",
    "\n"
   ]
  },
  {
   "cell_type": "code",
   "execution_count": 11,
   "metadata": {},
   "outputs": [
    {
     "data": {
      "image/png": "[encoded data removed]",
      "text/plain": [
       "<matplotlib.figure.Figure at 0x1382d29f588>"
      ]
     },
     "metadata": {},
     "output_type": "display_data"
    }
   ],
   "source": [
    "# Visualize the learned weights for each class\n",
    "w = best_softmax.W[:-1,:] # strip out the bias\n",
    "w = w.reshape(32, 32, 3, 10)\n",
    "\n",
    "w_min, w_max = np.min(w), np.max(w)\n",
    "\n",
    "classes = ['plane', 'car', 'bird', 'cat', 'deer', 'dog', 'frog', 'horse', 'ship', 'truck']\n",
    "for i in range(10):\n",
    "    plt.subplot(2, 5, i + 1)\n",
    "    \n",
    "    # Rescale the weights to be between 0 and 255\n",
    "    wimg = 255.0 * (w[:, :, :, i].squeeze() - w_min) / (w_max - w_min)\n",
    "    plt.imshow(wimg.astype('uint8'))\n",
    "    plt.axis('off')\n",
    "    plt.title(classes[i])"
   ]
  },
  {
   "cell_type": "code",
   "execution_count": null,
   "metadata": {},
   "outputs": [],
   "source": []
  },
  {
   "cell_type": "code",
   "execution_count": null,
   "metadata": {},
   "outputs": [],
   "source": []
  }
 ],
 "metadata": {
  "kernelspec": {
   "display_name": "Python 3",
   "language": "python",
   "name": "python3"
  },
  "language_info": {
   "codemirror_mode": {
    "name": "ipython",
    "version": 3
   },
   "file_extension": ".py",
   "mimetype": "text/x-python",
   "name": "python",
   "nbconvert_exporter": "python",
   "pygments_lexer": "ipython3",
   "version": "3.6.5"
  }
 },
 "nbformat": 4,
 "nbformat_minor": 1
}
